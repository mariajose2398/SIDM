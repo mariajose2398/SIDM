{
 "cells": [
  {
   "cell_type": "code",
   "execution_count": 1,
   "id": "4ecfc1b9-dbfb-4923-a092-a7dc20249deb",
   "metadata": {},
   "outputs": [
    {
     "data": {
      "text/plain": [
       "<module 'sidm.tools.utilities' from '/home/cms-jovyan/SIDM/sidm/test_notebooks/../../sidm/tools/utilities.py'>"
      ]
     },
     "execution_count": 1,
     "metadata": {},
     "output_type": "execute_result"
    }
   ],
   "source": [
    "# python\n",
    "import sys\n",
    "import os\n",
    "import importlib\n",
    "# columnar analysis\n",
    "import uproot\n",
    "import numpy as np\n",
    "import awkward as ak\n",
    "import coffea.processor as processor\n",
    "from coffea.nanoevents import NanoEventsFactory\n",
    "import hist\n",
    "# local\n",
    "sys.path.insert(1, os.path.join(sys.path[0], '../..')) # fixme: there must be a better way to handle this...\n",
    "from sidm.tools import ffschema, utilities\n",
    "# always reload local modules to pick up changes during development\n",
    "importlib.reload(ffschema)\n",
    "importlib.reload(utilities)"
   ]
  },
  {
   "cell_type": "code",
   "execution_count": 2,
   "id": "2bd55684-ee0a-4de9-9915-009701734953",
   "metadata": {},
   "outputs": [],
   "source": [
    "fname = 'root://xcache//store/group/lpcmetx/SIDM/ffNtupleV4/2018/SIDM_XXTo2ATo2Mu2E_mXX-100_mA-1p2_ctau-9p6_TuneCP5_13TeV-madgraph-pythia8/RunIIAutumn18DRPremix-102X_upgrade2018_realistic_v15-v1/210326_161703/0000/ffNtuple_1.root'"
   ]
  },
  {
   "cell_type": "code",
   "execution_count": 3,
   "id": "22f3392c-3da0-4389-8fc2-2f2b33bdd33c",
   "metadata": {
    "tags": []
   },
   "outputs": [
    {
     "name": "stdout",
     "output_type": "stream",
     "text": [
      "run\n",
      "event\n",
      "lumi\n",
      "fixedGridRho\n",
      "puInteractionNum\n",
      "trueInteractionNum\n",
      "weight\n",
      "weightProduct\n",
      "HLT_DoubleL2Mu23NoVtx_2Cha\n",
      "HLT_DoubleL2Mu23NoVtx_2Cha_NoL2Matched\n",
      "HLT_DoubleL2Mu23NoVtx_2Cha_CosmicSeed\n",
      "HLT_DoubleL2Mu23NoVtx_2Cha_CosmicSeed_NoL2Matched\n",
      "HLT_DoubleL2Mu25NoVtx_2Cha\n",
      "HLT_DoubleL2Mu25NoVtx_2Cha_NoL2Matched\n",
      "HLT_DoubleL2Mu25NoVtx_2Cha_CosmicSeed\n",
      "HLT_DoubleL2Mu25NoVtx_2Cha_CosmicSeed_NoL2Matched\n",
      "HLT_DoubleL2Mu25NoVtx_2Cha_Eta2p4\n",
      "HLT_DoubleL2Mu25NoVtx_2Cha_CosmicSeed_Eta2p4\n",
      "tomatchfilter_result\n",
      "tomatchfilter_HLTDoubleL2Mu23NoVtx2Cha\n",
      "tomatchfilter_HLTDoubleL2Mu23NoVtx2ChaNoL2Matched\n",
      "tomatchfilter_HLTDoubleL2Mu23NoVtx2ChaCosmicSeed\n",
      "tomatchfilter_HLTDoubleL2Mu23NoVtx2ChaCosmicSeedNoL2Matched\n",
      "tomatchfilter_HLTDoubleL2Mu25NoVtx2ChaEta2p4\n",
      "tomatchfilter_HLTDoubleL2Mu25NoVtx2ChaCosmicSeedEta2p4\n",
      "pfMetT1\n",
      "pfMetT0pcT1Txy\n",
      "pfMet\n",
      "genmet\n",
      "pfMetT0pcT1\n",
      "metfilters\n",
      "genjet\n",
      "trigobj\n",
      "pfphoton\n",
      "electron\n",
      "hftagscore\n",
      "cosmiconeleg\n",
      "dsamuon\n",
      "ljsource\n",
      "proxymuon\n",
      "muon\n",
      "cosmicveto\n",
      "cosmicmuon\n",
      "pv\n",
      "akjet_ak4PFJetsCHS\n",
      "photon\n",
      "pfjet\n",
      "gen\n"
     ]
    }
   ],
   "source": [
    "events = NanoEventsFactory.from_root(fname, treepath='ffNtuplizer/ffNtuple', schemaclass=ffschema.FFSchema).events()\n",
    "utilities.print_list(ak.fields(events))"
   ]
  },
  {
   "cell_type": "code",
   "execution_count": 4,
   "id": "63838ef0-c2e7-485d-8ed8-3b35d9576afd",
   "metadata": {},
   "outputs": [
    {
     "name": "stdout",
     "output_type": "stream",
     "text": [
      "2\n",
      "18359 * var * float32[parameters={\"__doc__\": \"pfjet_area\"}]\n",
      "3\n",
      "18359 * var * var * float64[parameters={\"__doc__\": \"pfjet_pfcand_pt\"}]\n"
     ]
    }
   ],
   "source": [
    "#events\n",
    "#ak.count(events.pfjet_pfcand.pt)\n",
    "#events.muon\n",
    "#events = events[ak.num(events.muon) > 0]\n",
    "#events = events[ak.num(events.electron) > 0]\n",
    "#events.muon[:, 0].p4.delta_r(events.electron.p4)\n",
    "#print(events.pfjet.layout)\n",
    "#print(len(events.pfjet.area))\n",
    "#print(ak.count(events.pfjet.area))\n",
    "print(events.pfjet.area.ndim)\n",
    "print(ak.type(events.pfjet.area))\n",
    "print(events.pfjet.pfcand.pt.ndim)\n",
    "print(ak.type(events.pfjet.pfcand.pt))"
   ]
  },
  {
   "cell_type": "code",
   "execution_count": 5,
   "id": "d730f748-242e-40ab-a659-3ce32fd9b439",
   "metadata": {},
   "outputs": [
    {
     "data": {
      "text/plain": [
       "<Array [[0.509], [], ... [0.559, 0.519], []] type='18359 * var * float32[paramet...'>"
      ]
     },
     "execution_count": 5,
     "metadata": {},
     "output_type": "execute_result"
    }
   ],
   "source": [
    "events.pfjet.area"
   ]
  },
  {
   "cell_type": "code",
   "execution_count": 6,
   "id": "d565fec5-75ee-4eb5-8813-68004a99dc7a",
   "metadata": {},
   "outputs": [
    {
     "data": {
      "text/plain": [
       "<Array [[[29.1, 13.4]], ... 21.6, 16.9]], []] type='18359 * var * var * float64[...'>"
      ]
     },
     "execution_count": 6,
     "metadata": {},
     "output_type": "execute_result"
    }
   ],
   "source": [
    "events.pfjet.pfcand.pt"
   ]
  },
  {
   "cell_type": "code",
   "execution_count": 7,
   "id": "a8da2307-4ef6-4e01-b76d-280a22052d61",
   "metadata": {},
   "outputs": [
    {
     "data": {
      "text/plain": [
       "18359 * var * {\"lxy\": float32[parameters={\"__doc__\": \"pfjet_kinvtx_lxy\"}], \"l3d\": float32[parameters={\"__doc__\": \"pfjet_kinvtx_l3d\"}], \"lxySig\": float32[parameters={\"__doc__\": \"pfjet_kinvtx_lxySig\"}], \"l3dSig\": float32[parameters={\"__doc__\": \"pfjet_kinvtx_l3dSig\"}], \"normChi2\": float32[parameters={\"__doc__\": \"pfjet_kinvtx_normChi2\"}], \"prob\": float32[parameters={\"__doc__\": \"pfjet_kinvtx_prob\"}], \"mass\": float32[parameters={\"__doc__\": \"pfjet_kinvtx_mass\"}], \"cosThetaXy\": float32[parameters={\"__doc__\": \"pfjet_kinvtx_cosThetaXy\"}], \"cosTheta3d\": float32[parameters={\"__doc__\": \"pfjet_kinvtx_cosTheta3d\"}], \"impactDistXy\": float32[parameters={\"__doc__\": \"pfjet_kinvtx_impactDistXy\"}], \"impactDist3d\": float32[parameters={\"__doc__\": \"pfjet_kinvtx_impactDist3d\"}], \"tkImpactDist2d\": var * float64[parameters={\"__doc__\": \"pfjet_kinvtx_tkImpactDist2d\"}], \"tkImpactDist3d\": var * float64[parameters={\"__doc__\": \"pfjet_kinvtx_tkImpactDist3d\"}]}"
      ]
     },
     "execution_count": 7,
     "metadata": {},
     "output_type": "execute_result"
    }
   ],
   "source": [
    "ak.type(events.pfjet.kinvtx)"
   ]
  },
  {
   "cell_type": "code",
   "execution_count": 8,
   "id": "33285226-0dd7-4573-8bbb-522e6824b410",
   "metadata": {},
   "outputs": [],
   "source": [
    "events = events[ak.num(events.pfjet) > 0]"
   ]
  },
  {
   "cell_type": "code",
   "execution_count": 9,
   "id": "124ddcf7-532a-4637-9205-40ce0d20f649",
   "metadata": {},
   "outputs": [
    {
     "data": {
      "text/plain": [
       "<Array [[[29.1, 13.4]], ... [21.6, 16.9]]] type='13524 * var * var * float64[par...'>"
      ]
     },
     "execution_count": 9,
     "metadata": {},
     "output_type": "execute_result"
    }
   ],
   "source": [
    "events.pfjet.pfcand.pt[:]"
   ]
  },
  {
   "cell_type": "code",
   "execution_count": 10,
   "id": "da3596e2-88e6-431c-9912-b11cc84e597a",
   "metadata": {},
   "outputs": [
    {
     "data": {
      "text/plain": [
       "29003"
      ]
     },
     "execution_count": 10,
     "metadata": {},
     "output_type": "execute_result"
    }
   ],
   "source": [
    "events.pfjet.pfcand.pt[:]\n",
    "ak.count(events.pfjet.pfcand.pt[:])"
   ]
  },
  {
   "cell_type": "code",
   "execution_count": 11,
   "id": "1b55b00b-bf10-4ce9-8b40-9940456c5d9f",
   "metadata": {},
   "outputs": [
    {
     "data": {
      "text/plain": [
       "<Array [1, 1, 1, 2, 1, 1, ... 1, 2, 1, 1, 1, 2] type='13524 * int64'>"
      ]
     },
     "execution_count": 11,
     "metadata": {},
     "output_type": "execute_result"
    }
   ],
   "source": [
    "ak.num(events.pfjet)"
   ]
  },
  {
   "cell_type": "code",
   "execution_count": 12,
   "id": "53b4ebae-38a3-4051-ba2b-658c52534374",
   "metadata": {},
   "outputs": [
    {
     "data": {
      "text/plain": [
       "<Array [0.815, 6.93e-07, ... 0.0928, 0.691] type='13524 * float32'>"
      ]
     },
     "execution_count": 12,
     "metadata": {},
     "output_type": "execute_result"
    }
   ],
   "source": [
    "events.genmet.pt"
   ]
  },
  {
   "cell_type": "code",
   "execution_count": 13,
   "id": "661c2ef4-b6c0-4624-a5c5-301f77ff94e3",
   "metadata": {},
   "outputs": [
    {
     "data": {
      "text/plain": [
       "<Array [[29.1, 13.4, 2.59, ... 1.32, 3.63]] type='13524 * var * float32'>"
      ]
     },
     "execution_count": 13,
     "metadata": {},
     "output_type": "execute_result"
    }
   ],
   "source": [
    "events.muon.p4.pt"
   ]
  },
  {
   "cell_type": "code",
   "execution_count": 14,
   "id": "8f2d9e22-c105-40d4-b4b5-d41931f6b6af",
   "metadata": {},
   "outputs": [
    {
     "data": {
      "text/plain": [
       "['charge', 'type', 'p4']"
      ]
     },
     "execution_count": 14,
     "metadata": {},
     "output_type": "execute_result"
    }
   ],
   "source": [
    "lj = events.ljsource\n",
    "lj.fields"
   ]
  },
  {
   "cell_type": "code",
   "execution_count": 15,
   "id": "24f7c926-a2b0-4cb6-871a-a50e3bac0947",
   "metadata": {},
   "outputs": [
    {
     "data": {
      "text/plain": [
       "<Array [[29.1, 13.4], ... 16.9, 21.6, 72.5]] type='13524 * var * float32'>"
      ]
     },
     "execution_count": 15,
     "metadata": {},
     "output_type": "execute_result"
    }
   ],
   "source": [
    "lj.p4.pt"
   ]
  },
  {
   "cell_type": "code",
   "execution_count": 16,
   "id": "3724c5a9-4468-4692-88b0-6c9dc646a525",
   "metadata": {},
   "outputs": [
    {
     "data": {
      "text/plain": [
       "<Array [[3, 3], [3, 3], ... 3, 3], [3, 3, 4]] type='13524 * var * int32[paramete...'>"
      ]
     },
     "execution_count": 16,
     "metadata": {},
     "output_type": "execute_result"
    }
   ],
   "source": [
    "lj[\"type\"]"
   ]
  },
  {
   "cell_type": "code",
   "execution_count": 17,
   "id": "eca6cd63-da21-432a-92f9-c26bf8c77274",
   "metadata": {},
   "outputs": [
    {
     "name": "stdout",
     "output_type": "stream",
     "text": [
      "[[-1], [1], [-1], [1, -1], [1], [-1], ... [-1, 1], [1], [-1], [-1, 1], [1, -1]]\n"
     ]
    }
   ],
   "source": [
    "from sidm.tools.utilities import dR\n",
    "genAs= events.gen[abs(events.gen.pid) == 32]\n",
    "matched_ljs=lj[(dR(genAs.p4, lj.p4) < 0.4)]\n",
    "print(matched_ljs.charge)"
   ]
  },
  {
   "cell_type": "code",
   "execution_count": 18,
   "id": "14883991-fe66-497b-a631-f9a9b2c17752",
   "metadata": {
    "tags": []
   },
   "outputs": [
    {
     "name": "stdout",
     "output_type": "stream",
     "text": [
      "1 1\n",
      "1 1\n",
      "1 1\n",
      "2 2\n",
      "1 1\n",
      "1 1\n",
      "1 1\n",
      "1 1\n",
      "1 1\n",
      "1 1\n"
     ]
    }
   ],
   "source": [
    "count=0\n",
    "for x in matched_ljs:\n",
    "    print(ak.num(x, axis=-1), len(x))\n",
    "    count += 1\n",
    "    if count == 10:\n",
    "        break"
   ]
  },
  {
   "cell_type": "code",
   "execution_count": 19,
   "id": "2bebf3e2-bf7c-4e70-b260-85c4c085b80a",
   "metadata": {
    "tags": []
   },
   "outputs": [
    {
     "name": "stdout",
     "output_type": "stream",
     "text": [
      "[[0], [0], [0], [0, 0], [0], [0], [0], ... [0], [0, 0], [0], [0], [0, 0], [0, 0]]\n"
     ]
    }
   ],
   "source": [
    "matched_genAs=genAs[(dR(genAs.p4, lj.p4) < 0.4)]\n",
    "print(matched_genAs.charge)"
   ]
  },
  {
   "cell_type": "code",
   "execution_count": 20,
   "id": "8c7f5efe-ec4f-4cea-999b-932ab1e5eb46",
   "metadata": {
    "tags": []
   },
   "outputs": [
    {
     "name": "stdout",
     "output_type": "stream",
     "text": [
      "[0] 1 1\n",
      "[0] 1 1\n",
      "[0] 1 1\n",
      "[0, 0] 2 2\n",
      "[0] 1 1\n",
      "[0] 1 1\n",
      "[0] 1 1\n",
      "[0] 1 1\n",
      "[0] 1 1\n",
      "[0] 1 1\n"
     ]
    }
   ],
   "source": [
    "count=0\n",
    "for x in matched_genAs:\n",
    "    print(x.charge, len(x), ak.num(x, axis=0))\n",
    "    count += 1\n",
    "    if count == 10:\n",
    "        break"
   ]
  },
  {
   "cell_type": "code",
   "execution_count": null,
   "id": "c8c7e787-ef73-4edc-aaec-6247ddd4481c",
   "metadata": {},
   "outputs": [],
   "source": []
  }
 ],
 "metadata": {
  "kernelspec": {
   "display_name": "Python 3 (ipykernel)",
   "language": "python",
   "name": "python3"
  },
  "language_info": {
   "codemirror_mode": {
    "name": "ipython",
    "version": 3
   },
   "file_extension": ".py",
   "mimetype": "text/x-python",
   "name": "python",
   "nbconvert_exporter": "python",
   "pygments_lexer": "ipython3",
   "version": "3.8.16"
  }
 },
 "nbformat": 4,
 "nbformat_minor": 5
}
