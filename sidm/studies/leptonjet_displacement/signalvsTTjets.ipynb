{
 "cells": [
  {
   "cell_type": "code",
   "execution_count": 1,
   "id": "55893c10-647e-4617-b2be-dd69b8edd783",
   "metadata": {
    "tags": []
   },
   "outputs": [],
   "source": [
    "# python\n",
    "import sys\n",
    "import importlib\n",
    "# columnar analysis\n",
    "from coffea import processor\n",
    "from coffea.nanoevents import NanoAODSchema\n",
    "import awkward as ak\n",
    "from dask.distributed import Client, performance_report\n",
    "# local\n",
    "import os\n",
    "sidm_path = str(os.getcwd()).split(\"/sidm\")[0]\n",
    "if sidm_path not in sys.path: sys.path.insert(1, sidm_path)\n",
    "from sidm.tools import utilities, sidm_processor, scaleout\n",
    "# always reload local modules to pick up changes during development\n",
    "importlib.reload(utilities)\n",
    "importlib.reload(sidm_processor)\n",
    "importlib.reload(scaleout)\n",
    "import matplotlib.pyplot as plt\n",
    "utilities.set_plot_style()\n",
    "%matplotlib inline\n",
    "import mplhep as hep"
   ]
  },
  {
   "cell_type": "code",
   "execution_count": 2,
   "id": "535d7843-9430-471e-984f-440bbbe1743b",
   "metadata": {
    "tags": []
   },
   "outputs": [
    {
     "data": {
      "text/html": [
       "<div>\n",
       "    <div style=\"width: 24px; height: 24px; background-color: #e1e1e1; border: 3px solid #9D9D9D; border-radius: 5px; position: absolute;\"> </div>\n",
       "    <div style=\"margin-left: 48px;\">\n",
       "        <h3 style=\"margin-bottom: 0px;\">Client</h3>\n",
       "        <p style=\"color: #9D9D9D; margin-bottom: 0px;\">Client-b9fc409a-2a78-11f0-9464-0274640bea84</p>\n",
       "        <table style=\"width: 100%; text-align: left;\">\n",
       "\n",
       "        <tr>\n",
       "        \n",
       "            <td style=\"text-align: left;\"><strong>Connection method:</strong> Direct</td>\n",
       "            <td style=\"text-align: left;\"></td>\n",
       "        \n",
       "        </tr>\n",
       "\n",
       "        \n",
       "            <tr>\n",
       "                <td style=\"text-align: left;\">\n",
       "                    <strong>Dashboard: </strong> <a href=\"/user/maria.jose@cern.ch/proxy/8787/status\" target=\"_blank\">/user/maria.jose@cern.ch/proxy/8787/status</a>\n",
       "                </td>\n",
       "                <td style=\"text-align: left;\"></td>\n",
       "            </tr>\n",
       "        \n",
       "\n",
       "        </table>\n",
       "\n",
       "        \n",
       "            <button style=\"margin-bottom: 12px;\" data-commandlinker-command=\"dask:populate-and-launch-layout\" data-commandlinker-args='{\"url\": \"/user/maria.jose@cern.ch/proxy/8787/status\" }'>\n",
       "                Launch dashboard in JupyterLab\n",
       "            </button>\n",
       "        \n",
       "\n",
       "        \n",
       "            <details>\n",
       "            <summary style=\"margin-bottom: 20px;\"><h3 style=\"display: inline;\">Scheduler Info</h3></summary>\n",
       "            <div style=\"\">\n",
       "    <div>\n",
       "        <div style=\"width: 24px; height: 24px; background-color: #FFF7E5; border: 3px solid #FF6132; border-radius: 5px; position: absolute;\"> </div>\n",
       "        <div style=\"margin-left: 48px;\">\n",
       "            <h3 style=\"margin-bottom: 0px;\">Scheduler</h3>\n",
       "            <p style=\"color: #9D9D9D; margin-bottom: 0px;\">Scheduler-51a23c77-e5d4-4d10-9d83-e2f847c1d159</p>\n",
       "            <table style=\"width: 100%; text-align: left;\">\n",
       "                <tr>\n",
       "                    <td style=\"text-align: left;\">\n",
       "                        <strong>Comm:</strong> tls://192.168.202.60:8786\n",
       "                    </td>\n",
       "                    <td style=\"text-align: left;\">\n",
       "                        <strong>Workers:</strong> 0\n",
       "                    </td>\n",
       "                </tr>\n",
       "                <tr>\n",
       "                    <td style=\"text-align: left;\">\n",
       "                        <strong>Dashboard:</strong> <a href=\"/user/maria.jose@cern.ch/proxy/8787/status\" target=\"_blank\">/user/maria.jose@cern.ch/proxy/8787/status</a>\n",
       "                    </td>\n",
       "                    <td style=\"text-align: left;\">\n",
       "                        <strong>Total threads:</strong> 0\n",
       "                    </td>\n",
       "                </tr>\n",
       "                <tr>\n",
       "                    <td style=\"text-align: left;\">\n",
       "                        <strong>Started:</strong> 1 hour ago\n",
       "                    </td>\n",
       "                    <td style=\"text-align: left;\">\n",
       "                        <strong>Total memory:</strong> 0 B\n",
       "                    </td>\n",
       "                </tr>\n",
       "            </table>\n",
       "        </div>\n",
       "    </div>\n",
       "\n",
       "    <details style=\"margin-left: 48px;\">\n",
       "        <summary style=\"margin-bottom: 20px;\">\n",
       "            <h3 style=\"display: inline;\">Workers</h3>\n",
       "        </summary>\n",
       "\n",
       "        \n",
       "\n",
       "    </details>\n",
       "</div>\n",
       "            </details>\n",
       "        \n",
       "\n",
       "    </div>\n",
       "</div>"
      ],
      "text/plain": [
       "<Client: 'tls://192.168.202.60:8786' processes=0 threads=0, memory=0 B>"
      ]
     },
     "execution_count": 2,
     "metadata": {},
     "output_type": "execute_result"
    }
   ],
   "source": [
    "client = scaleout.make_dask_client(\"tls://localhost:8786\")\n",
    "client"
   ]
  },
  {
   "cell_type": "code",
   "execution_count": 3,
   "id": "ab9dc117-935e-49b8-aab3-f9c0bf8643d2",
   "metadata": {
    "tags": []
   },
   "outputs": [],
   "source": [
    "samples = [\n",
    "   \"TTJets\", \n",
    "\n",
    "]\n",
    "samples2 = [ \n",
    "    \"2Mu2E_500GeV_5p0GeV_0p8mm\",\n",
    "    \"2Mu2E_500GeV_5p0GeV_80p0mm\",\n",
    "     \"2Mu2E_500GeV_0p25GeV_0p004mm\",\n",
    "     \"2Mu2E_500GeV_0p25GeV_4p0mm\",\n",
    "     \"2Mu2E_500GeV_1p2GeV_0p019mm\",\n",
    "     \"2Mu2E_500GeV_1p2GeV_19p0mm\",\n",
    "]\n",
    "fileset = utilities.make_fileset(samples, \n",
    "                                 \"skimmed_llpNanoAOD_v2\", \n",
    "                                 location_cfg=\"backgrounds.yaml\",\n",
    "                                      max_files =15\n",
    "                                     # max_files =1\n",
    "                                )\n",
    "fileset = utilities.make_fileset(samples2, \n",
    "                                 \"llpNanoAOD_v2\",\n",
    "                                 location_cfg=\"signal_2mu2e_v10.yaml\",\n",
    "                                fileset=fileset,\n",
    "                                  # max_files =10, \n",
    "                                    # max_files =1, \n",
    "                                )\n",
    "samples2.extend(samples)\n",
    "samples=samples2"
   ]
  },
  {
   "cell_type": "code",
   "execution_count": 4,
   "id": "0dcfe791-785f-47ea-8c0f-7b47e23fa5f9",
   "metadata": {
    "scrolled": true
   },
   "outputs": [
    {
     "data": {
      "application/vnd.jupyter.widget-view+json": {
       "model_id": "d5d98ba9ef1f4939b940fed0423cf6a8",
       "version_major": 2,
       "version_minor": 0
      },
      "text/plain": [
       "Output()"
      ]
     },
     "metadata": {},
     "output_type": "display_data"
    },
    {
     "data": {
      "text/html": [
       "<pre style=\"white-space:pre;overflow-x:auto;line-height:normal;font-family:Menlo,'DejaVu Sans Mono',consolas,'Courier New',monospace\"></pre>\n"
      ],
      "text/plain": []
     },
     "metadata": {},
     "output_type": "display_data"
    },
    {
     "data": {
      "text/html": [
       "<pre style=\"white-space:pre;overflow-x:auto;line-height:normal;font-family:Menlo,'DejaVu Sans Mono',consolas,'Courier New',monospace\">\n",
       "</pre>\n"
      ],
      "text/plain": [
       "\n"
      ]
     },
     "metadata": {},
     "output_type": "display_data"
    },
    {
     "data": {
      "application/vnd.jupyter.widget-view+json": {
       "model_id": "ecb85b5ca7f145b5bdee8fac9150c919",
       "version_major": 2,
       "version_minor": 0
      },
      "text/plain": [
       "Output()"
      ]
     },
     "metadata": {},
     "output_type": "display_data"
    },
    {
     "name": "stderr",
     "output_type": "stream",
     "text": [
      "/opt/conda/lib/python3.9/site-packages/awkward/_connect/_numpy.py:195: RuntimeWarning: invalid value encountered in divide\n",
      "  result = getattr(ufunc, method)(\n"
     ]
    },
    {
     "name": "stdout",
     "output_type": "stream",
     "text": [
      "#--------------------------------------------------------------------------\n",
      "#                         FastJet release 3.4.0\n",
      "#                 M. Cacciari, G.P. Salam and G. Soyez                  \n",
      "#     A software package for jet finding and analysis at colliders      \n",
      "#                           http://fastjet.fr                           \n",
      "#\t                                                                      \n",
      "# Please cite EPJC72(2012)1896 [arXiv:1111.6097] if you use this package\n",
      "# for scientific work and optionally PLB641(2006)57 [hep-ph/0512210].   \n",
      "#                                                                       \n",
      "# FastJet is provided without warranty under the GNU GPL v2 or higher.  \n",
      "# It uses T. Chan's closest pair algorithm, S. Fortune's Voronoi code,\n",
      "# CGAL and 3rd party plugin jet algorithms. See COPYING file for details.\n",
      "#--------------------------------------------------------------------------\n"
     ]
    },
    {
     "name": "stderr",
     "output_type": "stream",
     "text": [
      "/opt/conda/lib/python3.9/site-packages/coffea/processor/executor.py:1345: UserWarning: file not found ([ERROR] Server responded with an error: [3010] Unable to open /store/group/lpcmetx/SIDM/ULSignalSamples/2018_v10/BsTo2DpTo2Mu2e/CutDecayFalse_SIDM_BsTo2DpTo2Mu2e_MBs-500_MDp-5p0_ctau-0p8_v3/LLPnanoAODv2/CutDecayFalse_SIDM_BsTo2DpTo2Mu2e_MBs-500_MDp-5p0_ctau-0p8_v3_part-25.root; permission denied\n",
      ")\n",
      "\n",
      "    'root://xcache//store/group/lpcmetx/SIDM/ULSignalSamples/2018_v10/BsTo2DpTo2Mu2e/CutDecayFalse_SIDM_BsTo2DpTo2Mu2e_MBs-500_MDp-5p0_ctau-0p8_v3/LLPnanoAODv2/CutDecayFalse_SIDM_BsTo2DpTo2Mu2e_MBs-500_MDp-5p0_ctau-0p8_v3_part-25.root'\n",
      "\n",
      "Files may be specified as:\n",
      "   * str/bytes: relative or absolute filesystem path or URL, without any colons\n",
      "         other than Windows drive letter or URL schema.\n",
      "         Examples: \"rel/file.root\", \"C:\\abs\\file.root\", \"http://where/what.root\"\n",
      "   * str/bytes: same with an object-within-ROOT path, separated by a colon.\n",
      "         Example: \"rel/file.root:tdirectory/ttree\"\n",
      "   * pathlib.Path: always interpreted as a filesystem path or URL only (no\n",
      "         object-within-ROOT path), regardless of whether there are any colons.\n",
      "         Examples: Path(\"rel:/file.root\"), Path(\"/abs/path:stuff.root\")\n",
      "\n",
      "Functions that accept many files (uproot.iterate, etc.) also allow:\n",
      "   * glob syntax in str/bytes and pathlib.Path.\n",
      "         Examples: Path(\"rel/*.root\"), \"/abs/*.root:tdirectory/ttree\"\n",
      "   * dict: keys are filesystem paths, values are objects-within-ROOT paths.\n",
      "         Example: {\"/data_v1/*.root\": \"ttree_v1\", \"/data_v2/*.root\": \"ttree_v2\"}\n",
      "   * already-open TTree objects.\n",
      "   * iterables of the above.\n",
      "\n",
      "  warnings.warn(str(e))\n",
      "/opt/conda/lib/python3.9/site-packages/awkward/_connect/_numpy.py:195: RuntimeWarning: overflow encountered in power\n",
      "  result = getattr(ufunc, method)(\n"
     ]
    },
    {
     "data": {
      "text/html": [
       "<pre style=\"white-space:pre;overflow-x:auto;line-height:normal;font-family:Menlo,'DejaVu Sans Mono',consolas,'Courier New',monospace\"></pre>\n"
      ],
      "text/plain": []
     },
     "metadata": {},
     "output_type": "display_data"
    },
    {
     "data": {
      "text/html": [
       "<pre style=\"white-space:pre;overflow-x:auto;line-height:normal;font-family:Menlo,'DejaVu Sans Mono',consolas,'Courier New',monospace\">\n",
       "</pre>\n"
      ],
      "text/plain": [
       "\n"
      ]
     },
     "metadata": {},
     "output_type": "display_data"
    },
    {
     "name": "stdout",
     "output_type": "stream",
     "text": [
      "Signal not in xs cfg, assuming 1fb\n",
      "Signal not in xs cfg, assuming 1fb\n",
      "Signal not in xs cfg, assuming 1fb\n",
      "Signal not in xs cfg, assuming 1fb\n",
      "Signal not in xs cfg, assuming 1fb\n",
      "Signal not in xs cfg, assuming 1fb\n"
     ]
    }
   ],
   "source": [
    "channels = [\n",
    "    # \"baseNoLj\", \n",
    "    \"base_ljObjCut\",\n",
    "           \n",
    "           ]\n",
    "p = sidm_processor.SidmProcessor(\n",
    "    channels,\n",
    "    [\"displacement_base\"],\n",
    "    #lj_reco_choices=[\"0.4\"],\n",
    "    # unweighted_hist=True\n",
    "   \n",
    ")\n",
    "runner = processor.Runner(\n",
    "        executor=processor.FuturesExecutor(),\n",
    "      # executor=processor.IterativeExecutor(),\n",
    "      # executor=processor.DaskExecutor(client=client),\n",
    "    schema=NanoAODSchema,\n",
    "    #maxchunks=1,\n",
    "    skipbadfiles=True,\n",
    "    savemetrics=True,\n",
    ")\n",
    "\n",
    "\n",
    "# output = runner.run(fileset, treename=\"Events\", processor_instance=p)\n",
    "\n",
    "# test if processor is serializable\n",
    "output = runner.run(fileset, treename=\"Events\", processor_instance=p)\n",
    "#output2 = runner.run(fileset1, treename=\"Events\", processor_instance=p)\n"
   ]
  },
  {
   "cell_type": "code",
   "execution_count": 5,
   "id": "30f45fd7-d9eb-4b5d-b58f-a6948058cd59",
   "metadata": {
    "tags": []
   },
   "outputs": [],
   "source": [
    "def plot_histograms(samples, hist_list, channel, log = False, \n",
    "                     density= False,legend=None, folder_name=None, file_name=None):\n",
    "    if legend == None:\n",
    "        label = []\n",
    "        for s in samples:\n",
    "            text= s.split(\"_\")\n",
    "            print(text)\n",
    "            if len(text) > 1:\n",
    "                name= text[1]+ \", \" + text[2] + \", \" + text[3]\n",
    "                label.append(name)\n",
    "            else:\n",
    "                label.append(s)\n",
    "    if folder_name==None:\n",
    "        folder_name=\"my_plots\"\n",
    "    if file_name==None:\n",
    "        file_name=\"_\"\n",
    "\n",
    "    os.makedirs(folder_name, exist_ok=True)\n",
    "\n",
    "    \n",
    "    \n",
    "    for h in range(len(histograms_list)):\n",
    "        plt.figure(figsize=(12, 10))\n",
    "        for s in samples:\n",
    "            hists = output[\"out\"][s][\"hists\"]\n",
    "            if density==True:\n",
    "                utilities.plot(hists[histograms_list[h]][channel,:], density=True, yerr=False)\n",
    "            else:\n",
    "                utilities.plot(hists[histograms_list[h]][channel,:], density=False, yerr=False)\n",
    "            if legend!=None:\n",
    "                plt.legend(legend)\n",
    "            else:\n",
    "                plt.legend(label)\n",
    "                #ax[0].set_title(channel)\n",
    "            if log == True:\n",
    "                plt.yscale(\"log\")\n",
    "        filename = file_name +channel+ histograms_list[h]\n",
    "        save_path = os.path.join(folder_name, filename)         \n",
    "        plt.savefig(save_path)\n",
    "        plt.savefig(save_path)\n",
    "        plt.show()\n",
    "        plt.close()\n",
    "    "
   ]
  },
  {
   "cell_type": "code",
   "execution_count": 6,
   "id": "a5ab74b2-1466-405c-9c88-3f85571460ae",
   "metadata": {
    "tags": []
   },
   "outputs": [],
   "source": [
    "foldername =  \"500withNewDefinitionforElectrons\"\n",
    "channelname = \"base_ljObjCut\""
   ]
  },
  {
   "cell_type": "code",
   "execution_count": 8,
   "id": "2884b7f9-afe0-4cb8-864f-34345356df5b",
   "metadata": {
    "tags": []
   },
   "outputs": [
    {
     "name": "stdout",
     "output_type": "stream",
     "text": [
      "['2Mu2E', '500GeV', '5p0GeV', '0p8mm']\n",
      "['2Mu2E', '500GeV', '5p0GeV', '80p0mm']\n",
      "['2Mu2E', '500GeV', '0p25GeV', '0p004mm']\n",
      "['2Mu2E', '500GeV', '0p25GeV', '4p0mm']\n",
      "['2Mu2E', '500GeV', '1p2GeV', '0p019mm']\n",
      "['2Mu2E', '500GeV', '1p2GeV', '19p0mm']\n",
      "['TTJets']\n"
     ]
    },
    {
     "data": {
      "text/plain": [
       "<Figure size 600x500 with 1 Axes>"
      ]
     },
     "metadata": {},
     "output_type": "display_data"
    },
    {
     "data": {
      "text/plain": [
       "<Figure size 600x500 with 1 Axes>"
      ]
     },
     "metadata": {},
     "output_type": "display_data"
    },
    {
     "data": {
      "text/plain": [
       "<Figure size 600x500 with 1 Axes>"
      ]
     },
     "metadata": {},
     "output_type": "display_data"
    },
    {
     "data": {
      "text/plain": [
       "<Figure size 600x500 with 1 Axes>"
      ]
     },
     "metadata": {},
     "output_type": "display_data"
    },
    {
     "data": {
      "text/plain": [
       "<Figure size 600x500 with 1 Axes>"
      ]
     },
     "metadata": {},
     "output_type": "display_data"
    },
    {
     "data": {
      "text/plain": [
       "<Figure size 600x500 with 1 Axes>"
      ]
     },
     "metadata": {},
     "output_type": "display_data"
    },
    {
     "data": {
      "image/png": "[encoded data removed]",
      "text/plain": [
       "<Figure size 600x500 with 1 Axes>"
      ]
     },
     "metadata": {},
     "output_type": "display_data"
    },
    {
     "data": {
      "text/plain": [
       "<Figure size 600x500 with 1 Axes>"
      ]
     },
     "metadata": {},
     "output_type": "display_data"
    },
    {
     "data": {
      "text/plain": [
       "<Figure size 600x500 with 1 Axes>"
      ]
     },
     "metadata": {},
     "output_type": "display_data"
    },
    {
     "data": {
      "text/plain": [
       "<Figure size 600x500 with 1 Axes>"
      ]
     },
     "metadata": {},
     "output_type": "display_data"
    },
    {
     "data": {
      "text/plain": [
       "<Figure size 600x500 with 1 Axes>"
      ]
     },
     "metadata": {},
     "output_type": "display_data"
    },
    {
     "data": {
      "text/plain": [
       "<Figure size 600x500 with 1 Axes>"
      ]
     },
     "metadata": {},
     "output_type": "display_data"
    },
    {
     "data": {
      "text/plain": [
       "<Figure size 600x500 with 1 Axes>"
      ]
     },
     "metadata": {},
     "output_type": "display_data"
    },
    {
     "data": {
      "text/plain": [
       "<Figure size 600x500 with 1 Axes>"
      ]
     },
     "metadata": {},
     "output_type": "display_data"
    },
    {
     "data": {
      "text/plain": [
       "<Figure size 600x500 with 1 Axes>"
      ]
     },
     "metadata": {},
     "output_type": "display_data"
    }
   ],
   "source": [
    "histograms_list = [ \"egm_lj_pt\", \"egm_lj_electron_dxy_XLowRange\",\n",
    "                    \"egm_lj_electron_min_dxy_XLowRange\", \n",
    "                   \"egm_lj_electron_max_dxy_XLowRange\",\n",
    "                   \"egm_lj_electron_dxy_XXXXLowRange\",\n",
    "                   \"egm_lj_electron_max_dxy_XXXXLowRange\",\n",
    "                   \"egm_lj_electron_min_dxy_XXXXLowRange\",\n",
    "                    \"egm_lj_electronN\", \"egm_lj_photonN\", \n",
    "                   \"egm_lj_electron_lostHits\",\n",
    "                    \"mu_lj_pfMuon_dxy_lowRange\",\n",
    "                   \"mu_lj_pfMuon_min_dxy\",\n",
    "                   \"mu_lj_pfMuon_max_dxy\",\n",
    "                   \"mu_lj_pfMuon_min_dxy_XLowRange\",\n",
    "                   \"mu_lj_pt\", \n",
    "                ]\n",
    "#legend=[r\"<$L_{xy}$>= 0.3 cm\", r\"<$L_{xy}$>= 300 cm\", r\"$t\\overline{t}$\"]\n",
    "samples= [\"2Mu2E_500GeV_5p0GeV_0p8mm\",\n",
    "    \"2Mu2E_500GeV_5p0GeV_80p0mm\",\n",
    "    \"2Mu2E_500GeV_0p25GeV_0p004mm\",\n",
    "     \"2Mu2E_500GeV_0p25GeV_4p0mm\",\n",
    "     \"2Mu2E_500GeV_1p2GeV_0p019mm\",\n",
    "     \"2Mu2E_500GeV_1p2GeV_19p0mm\",\n",
    "          \"TTJets\"]\n",
    "plot_histograms(samples, histograms_list, channelname, density=True,\n",
    "                log=True, folder_name=foldername, file_name =\"500\")\n",
    "\n"
   ]
  },
  {
   "cell_type": "code",
   "execution_count": 9,
   "id": "0b273d1a-479b-4b92-9588-4dc865d31f24",
   "metadata": {},
   "outputs": [
    {
     "name": "stdout",
     "output_type": "stream",
     "text": [
      "['2Mu2E', '500GeV', '5p0GeV', '0p8mm']\n",
      "['2Mu2E', '500GeV', '5p0GeV', '80p0mm']\n",
      "['2Mu2E', '500GeV', '0p25GeV', '0p004mm']\n",
      "['2Mu2E', '500GeV', '0p25GeV', '4p0mm']\n",
      "['2Mu2E', '500GeV', '1p2GeV', '0p019mm']\n",
      "['2Mu2E', '500GeV', '1p2GeV', '19p0mm']\n",
      "['TTJets']\n"
     ]
    },
    {
     "data": {
      "text/plain": [
       "<Figure size 600x500 with 1 Axes>"
      ]
     },
     "metadata": {},
     "output_type": "display_data"
    },
    {
     "data": {
      "text/plain": [
       "<Figure size 600x500 with 1 Axes>"
      ]
     },
     "metadata": {},
     "output_type": "display_data"
    },
    {
     "data": {
      "text/plain": [
       "<Figure size 600x500 with 1 Axes>"
      ]
     },
     "metadata": {},
     "output_type": "display_data"
    },
    {
     "data": {
      "text/plain": [
       "<Figure size 600x500 with 1 Axes>"
      ]
     },
     "metadata": {},
     "output_type": "display_data"
    },
    {
     "data": {
      "text/plain": [
       "<Figure size 600x500 with 1 Axes>"
      ]
     },
     "metadata": {},
     "output_type": "display_data"
    },
    {
     "data": {
      "text/plain": [
       "<Figure size 600x500 with 1 Axes>"
      ]
     },
     "metadata": {},
     "output_type": "display_data"
    },
    {
     "data": {
      "text/plain": [
       "<Figure size 600x500 with 1 Axes>"
      ]
     },
     "metadata": {},
     "output_type": "display_data"
    },
    {
     "data": {
      "text/plain": [
       "<Figure size 600x500 with 1 Axes>"
      ]
     },
     "metadata": {},
     "output_type": "display_data"
    }
   ],
   "source": [
    "histograms_list = [\n",
    "     \"genE_dxy\", \"genMu_dxy\", \"genMu_dxy_lowRange\",\n",
    "    \"genE_dxy_lowRange\",\"genE_dxy_XLowRange\",\n",
    "    \"genE_dxy_XXLowRange\",\n",
    "    \"genMu_dxy_XLowRange\", \"genMu_dxy_XXLowRange\"\n",
    "]\n",
    "samples= [\"2Mu2E_500GeV_5p0GeV_0p8mm\",\n",
    "    \"2Mu2E_500GeV_5p0GeV_80p0mm\",\n",
    "     \"2Mu2E_500GeV_0p25GeV_0p004mm\",\n",
    "     \"2Mu2E_500GeV_0p25GeV_4p0mm\",\n",
    "     \"2Mu2E_500GeV_1p2GeV_0p019mm\",\n",
    "     \"2Mu2E_500GeV_1p2GeV_19p0mm\",\n",
    "         \"TTJets\"]\n",
    "plot_histograms(samples, histograms_list, channelname, density=True,\n",
    "                log=True, folder_name=foldername, file_name =\"500\")"
   ]
  },
  {
   "cell_type": "code",
   "execution_count": null,
   "id": "9cbd9740-0a12-455f-9148-c89f53002ea7",
   "metadata": {},
   "outputs": [],
   "source": []
  },
  {
   "cell_type": "code",
   "execution_count": null,
   "id": "a9c33483-5eaf-42fc-acef-f32fee4c98f7",
   "metadata": {},
   "outputs": [],
   "source": []
  },
  {
   "cell_type": "code",
   "execution_count": null,
   "id": "53cb54f1-a29f-4fb8-86c6-08f488633527",
   "metadata": {},
   "outputs": [],
   "source": []
  },
  {
   "cell_type": "code",
   "execution_count": null,
   "id": "9c94fa20-9609-4ee2-a35c-76f4205d1143",
   "metadata": {},
   "outputs": [],
   "source": []
  }
 ],
 "metadata": {
  "kernelspec": {
   "display_name": "Python 3 (ipykernel)",
   "language": "python",
   "name": "python3"
  },
  "language_info": {
   "codemirror_mode": {
    "name": "ipython",
    "version": 3
   },
   "file_extension": ".py",
   "mimetype": "text/x-python",
   "name": "python",
   "nbconvert_exporter": "python",
   "pygments_lexer": "ipython3",
   "version": "3.9.18"
  }
 },
 "nbformat": 4,
 "nbformat_minor": 5
}
