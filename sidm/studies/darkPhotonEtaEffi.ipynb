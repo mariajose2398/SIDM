{
 "cells": [
  {
   "cell_type": "code",
   "execution_count": 1,
   "id": "22494528-7405-4e89-9c0b-9be35da5c4dd",
   "metadata": {
    "tags": []
   },
   "outputs": [
    {
     "data": {
      "text/plain": [
       "<module 'sidm.tools.utilities' from '/home/cms-jovyan/SIDM/sidm/studies/../../sidm/tools/utilities.py'>"
      ]
     },
     "execution_count": 1,
     "metadata": {},
     "output_type": "execute_result"
    }
   ],
   "source": [
    "# python\n",
    "import sys\n",
    "import os\n",
    "import importlib\n",
    "from coffea import processor\n",
    "# columnar analysis\n",
    "from coffea.nanoevents import NanoEventsFactory\n",
    "import awkward as ak   #numpy like module for handling arrays\n",
    "#plotting\n",
    "import matplotlib.pyplot as plt\n",
    "import mplhep as hep\n",
    "import numpy as np\n",
    "# local\n",
    "sys.path.insert(1, os.path.join(sys.path[0], '../..')) # fixme: there must be a better way to handle this...\n",
    "from sidm.tools import ffschema, sidm_processor, utilities\n",
    "# always reload local modules to pick up changes during development\n",
    "importlib.reload(ffschema)  #why do we need this?\n",
    "importlib.reload(sidm_processor) \n",
    "importlib.reload(utilities)\n"
   ]
  },
  {
   "cell_type": "code",
   "execution_count": 2,
   "id": "2d7b6c1e-e8d2-4587-9f6f-37de26bc5172",
   "metadata": {
    "tags": []
   },
   "outputs": [],
   "source": [
    "samples = [\n",
    "    \"2Mu2E_100GeV_5GeV_40mm\",\n",
    "    #\"2Mu2E_150GeV_5GeV_2p7mm\",\n",
    "    #\"2Mu2E_200GeV_5GeV_2mm\",\n",
    "    #\"2Mu2E_500GeV_5GeV_0p8mm\",\n",
    "    #\"2Mu2E_800GeV_5GeV_0p5mm\",\n",
    "    #\"2Mu2E_1000GeV_5GeV_0p4mm\",\n",
    "    #\"2Mu2E_1000GeV_5GeV_0p04mm\",\n",
    "    #\"2Mu2E_1000GeV_5GeV_20mm\",\n",
    "    #\"2Mu2E_100GeV_1p2GeV_9p6mm\",\n",
    "    #\"2Mu2E_1000GeV_5GeV_40mm\",\n",
    "   # \"2Mu2E_1000GeV_5GeV_4mm\",\n",
    "    \n",
    "]\n",
    "fileset = utilities.make_fileset(samples, \"ffntuple_v4\")"
   ]
  },
  {
   "cell_type": "code",
   "execution_count": 3,
   "id": "d3ae2b4b-d04f-4040-afc8-d3df56ffdba4",
   "metadata": {
    "tags": []
   },
   "outputs": [
    {
     "data": {
      "application/vnd.jupyter.widget-view+json": {
       "model_id": "e753ecf8b99e4d42ab05e56315dcf9f4",
       "version_major": 2,
       "version_minor": 0
      },
      "text/plain": [
       "Output()"
      ]
     },
     "metadata": {},
     "output_type": "display_data"
    },
    {
     "data": {
      "text/html": [
       "<pre style=\"white-space:pre;overflow-x:auto;line-height:normal;font-family:Menlo,'DejaVu Sans Mono',consolas,'Courier New',monospace\"></pre>\n"
      ],
      "text/plain": []
     },
     "metadata": {},
     "output_type": "display_data"
    },
    {
     "data": {
      "text/html": [
       "<pre style=\"white-space:pre;overflow-x:auto;line-height:normal;font-family:Menlo,'DejaVu Sans Mono',consolas,'Courier New',monospace\">\n",
       "</pre>\n"
      ],
      "text/plain": [
       "\n"
      ]
     },
     "metadata": {},
     "output_type": "display_data"
    },
    {
     "data": {
      "application/vnd.jupyter.widget-view+json": {
       "model_id": "ebde8ca6c66248df88a5504f33ba9810",
       "version_major": 2,
       "version_minor": 0
      },
      "text/plain": [
       "Output()"
      ]
     },
     "metadata": {},
     "output_type": "display_data"
    },
    {
     "data": {
      "text/html": [
       "<pre style=\"white-space:pre;overflow-x:auto;line-height:normal;font-family:Menlo,'DejaVu Sans Mono',consolas,'Courier New',monospace\">Warning: a histogram with the following axis names could not be filled and will be skipped: ['channel', 'lj_pfiso',\n",
       "'weight']\n",
       "</pre>\n"
      ],
      "text/plain": [
       "Warning: a histogram with the following axis names could not be filled and will be skipped: ['channel', 'lj_pfiso',\n",
       "'weight']\n"
      ]
     },
     "metadata": {},
     "output_type": "display_data"
    },
    {
     "data": {
      "text/html": [
       "<pre style=\"white-space:pre;overflow-x:auto;line-height:normal;font-family:Menlo,'DejaVu Sans Mono',consolas,'Courier New',monospace\">Warning: a histogram with the following axis names could not be filled and will be skipped: ['channel', 'lj_pfiso',\n",
       "'weight']\n",
       "</pre>\n"
      ],
      "text/plain": [
       "Warning: a histogram with the following axis names could not be filled and will be skipped: ['channel', 'lj_pfiso',\n",
       "'weight']\n"
      ]
     },
     "metadata": {},
     "output_type": "display_data"
    },
    {
     "data": {
      "text/html": [
       "<pre style=\"white-space:pre;overflow-x:auto;line-height:normal;font-family:Menlo,'DejaVu Sans Mono',consolas,'Courier New',monospace\">Warning: a histogram with the following axis names could not be filled and will be skipped: ['channel', 'lj_pfiso',\n",
       "'weight']\n",
       "</pre>\n"
      ],
      "text/plain": [
       "Warning: a histogram with the following axis names could not be filled and will be skipped: ['channel', 'lj_pfiso',\n",
       "'weight']\n"
      ]
     },
     "metadata": {},
     "output_type": "display_data"
    },
    {
     "data": {
      "text/html": [
       "<pre style=\"white-space:pre;overflow-x:auto;line-height:normal;font-family:Menlo,'DejaVu Sans Mono',consolas,'Courier New',monospace\">Warning: a histogram with the following axis names could not be filled and will be skipped: ['channel', 'lj_pfiso',\n",
       "'weight']\n",
       "</pre>\n"
      ],
      "text/plain": [
       "Warning: a histogram with the following axis names could not be filled and will be skipped: ['channel', 'lj_pfiso',\n",
       "'weight']\n"
      ]
     },
     "metadata": {},
     "output_type": "display_data"
    },
    {
     "data": {
      "text/html": [
       "<pre style=\"white-space:pre;overflow-x:auto;line-height:normal;font-family:Menlo,'DejaVu Sans Mono',consolas,'Courier New',monospace\">Warning: a histogram with the following axis names could not be filled and will be skipped: ['channel', 'lj_pfiso',\n",
       "'weight']\n",
       "</pre>\n"
      ],
      "text/plain": [
       "Warning: a histogram with the following axis names could not be filled and will be skipped: ['channel', 'lj_pfiso',\n",
       "'weight']\n"
      ]
     },
     "metadata": {},
     "output_type": "display_data"
    },
    {
     "data": {
      "text/html": [
       "<pre style=\"white-space:pre;overflow-x:auto;line-height:normal;font-family:Menlo,'DejaVu Sans Mono',consolas,'Courier New',monospace\">Warning: a histogram with the following axis names could not be filled and will be skipped: ['channel', 'lj_pfiso',\n",
       "'weight']\n",
       "</pre>\n"
      ],
      "text/plain": [
       "Warning: a histogram with the following axis names could not be filled and will be skipped: ['channel', 'lj_pfiso',\n",
       "'weight']\n"
      ]
     },
     "metadata": {},
     "output_type": "display_data"
    },
    {
     "data": {
      "text/html": [
       "<pre style=\"white-space:pre;overflow-x:auto;line-height:normal;font-family:Menlo,'DejaVu Sans Mono',consolas,'Courier New',monospace\">Warning: a histogram with the following axis names could not be filled and will be skipped: ['channel', 'lj_pfiso',\n",
       "'weight']\n",
       "</pre>\n"
      ],
      "text/plain": [
       "Warning: a histogram with the following axis names could not be filled and will be skipped: ['channel', 'lj_pfiso',\n",
       "'weight']\n"
      ]
     },
     "metadata": {},
     "output_type": "display_data"
    },
    {
     "data": {
      "text/html": [
       "<pre style=\"white-space:pre;overflow-x:auto;line-height:normal;font-family:Menlo,'DejaVu Sans Mono',consolas,'Courier New',monospace\"></pre>\n"
      ],
      "text/plain": []
     },
     "metadata": {},
     "output_type": "display_data"
    },
    {
     "data": {
      "text/html": [
       "<pre style=\"white-space:pre;overflow-x:auto;line-height:normal;font-family:Menlo,'DejaVu Sans Mono',consolas,'Courier New',monospace\">\n",
       "</pre>\n"
      ],
      "text/plain": [
       "\n"
      ]
     },
     "metadata": {},
     "output_type": "display_data"
    }
   ],
   "source": [
    "runner = processor.Runner(\n",
    "    executor=processor.IterativeExecutor(),\n",
    "    #executor=processor.FuturesExecutor(),\n",
    "    schema=ffschema.FFSchema,\n",
    "    #maxchunks=2,\n",
    "    )\n",
    "\n",
    "p = sidm_processor.SidmProcessor(\n",
    "    [\n",
    "        \"baseNoLj\",\n",
    "        #\"2mu2e\",\n",
    "        \n",
    "        \n",
    "    ],\n",
    "    [\"base_plus_gen\"]\n",
    ")\n",
    "\n",
    "output = runner.run(fileset, treename=\"ffNtuplizer/ffNtuple\", processor_instance=p)"
   ]
  },
  {
   "cell_type": "code",
   "execution_count": null,
   "id": "15ed17de-f075-458e-a921-ffc0c19428ca",
   "metadata": {},
   "outputs": [],
   "source": []
  }
 ],
 "metadata": {
  "kernelspec": {
   "display_name": "Python 3 (ipykernel)",
   "language": "python",
   "name": "python3"
  },
  "language_info": {
   "codemirror_mode": {
    "name": "ipython",
    "version": 3
   },
   "file_extension": ".py",
   "mimetype": "text/x-python",
   "name": "python",
   "nbconvert_exporter": "python",
   "pygments_lexer": "ipython3",
   "version": "3.8.17"
  }
 },
 "nbformat": 4,
 "nbformat_minor": 5
}
